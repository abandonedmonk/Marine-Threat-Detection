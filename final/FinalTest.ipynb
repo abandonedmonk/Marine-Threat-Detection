{
 "cells": [
  {
   "cell_type": "code",
   "execution_count": 1,
   "id": "0c25aec5",
   "metadata": {},
   "outputs": [],
   "source": [
    "import PIL.Image as Image\n",
    "import torch\n",
    "import torchvision\n",
    "import torchvision.transforms as transforms"
   ]
  },
  {
   "cell_type": "code",
   "execution_count": 2,
   "id": "d52bbb3b",
   "metadata": {},
   "outputs": [],
   "source": [
    "classes = [\n",
    "    'not threat',\n",
    "    'threat'\n",
    "]"
   ]
  },
  {
   "cell_type": "code",
   "execution_count": 3,
   "id": "4a457394",
   "metadata": {},
   "outputs": [],
   "source": [
    "model = torch.load('best_model.pth')"
   ]
  },
  {
   "cell_type": "code",
   "execution_count": 4,
   "id": "70348e55",
   "metadata": {},
   "outputs": [],
   "source": [
    "mean = [0.2842, 0.3798, 0.4523]\n",
    "std  = [0.2231, 0.1942, 0.1880]\n",
    "\n",
    "#Applying Transformation\n",
    "image_transforms = transforms.Compose([transforms.Resize((224, 224)),\n",
    "                                transforms.ToTensor(),\n",
    "                                transforms.Normalize(torch.Tensor(mean), torch.Tensor(std))])\n"
   ]
  },
  {
   "cell_type": "code",
   "execution_count": 5,
   "id": "d460332b",
   "metadata": {},
   "outputs": [],
   "source": [
    "def classify(model, image_transforms, image_path, classes):\n",
    "    model = model.eval()\n",
    "    image = Image.open(image_path)\n",
    "    image = image_transforms(image).float()\n",
    "    image = image.unsqueeze(0)\n",
    " \n",
    "    output = model(image)\n",
    "    _, predicted = torch.max(output.data, 1)\n",
    "    \n",
    "    print(classes[predicted.item()])"
   ]
  },
  {
   "cell_type": "code",
   "execution_count": 6,
   "id": "54f5f7fd",
   "metadata": {},
   "outputs": [
    {
     "name": "stdout",
     "output_type": "stream",
     "text": [
      "threat\n"
     ]
    }
   ],
   "source": [
    "classify(model, image_transforms, '1 (1).jpg', classes)"
   ]
  },
  {
   "cell_type": "code",
   "execution_count": 7,
   "id": "cfb7e449",
   "metadata": {},
   "outputs": [
    {
     "name": "stdout",
     "output_type": "stream",
     "text": [
      "not threat\n"
     ]
    }
   ],
   "source": [
    "classify(model, image_transforms, '2 (2).png', classes)"
   ]
  },
  {
   "cell_type": "code",
   "execution_count": 8,
   "id": "584073d8",
   "metadata": {},
   "outputs": [
    {
     "name": "stdout",
     "output_type": "stream",
     "text": [
      "not threat\n"
     ]
    }
   ],
   "source": [
    "classify(model, image_transforms, '2 (3).png', classes)"
   ]
  },
  {
   "cell_type": "code",
   "execution_count": 10,
   "id": "abe8f9a3",
   "metadata": {},
   "outputs": [
    {
     "name": "stdout",
     "output_type": "stream",
     "text": [
      "threat\n"
     ]
    }
   ],
   "source": [
    "classify(model, image_transforms, '1 (7).jpg', classes)"
   ]
  },
  {
   "cell_type": "code",
   "execution_count": 11,
   "id": "35917227",
   "metadata": {},
   "outputs": [
    {
     "name": "stdout",
     "output_type": "stream",
     "text": [
      "not threat\n"
     ]
    }
   ],
   "source": [
    "classify(model, image_transforms, '2 (1).png', classes)"
   ]
  },
  {
   "cell_type": "code",
   "execution_count": 12,
   "id": "442eb513",
   "metadata": {},
   "outputs": [
    {
     "name": "stdout",
     "output_type": "stream",
     "text": [
      "threat\n"
     ]
    }
   ],
   "source": [
    "classify(model, image_transforms, '1 (5).jpg', classes)"
   ]
  },
  {
   "cell_type": "code",
   "execution_count": 13,
   "id": "22d7781a",
   "metadata": {},
   "outputs": [
    {
     "name": "stdout",
     "output_type": "stream",
     "text": [
      "not threat\n"
     ]
    }
   ],
   "source": [
    "classify(model, image_transforms, '2 (9).png', classes)"
   ]
  },
  {
   "cell_type": "code",
   "execution_count": 14,
   "id": "8abf554b",
   "metadata": {},
   "outputs": [
    {
     "name": "stdout",
     "output_type": "stream",
     "text": [
      "threat\n"
     ]
    }
   ],
   "source": [
    "classify(model, image_transforms, '1 (4).jpg', classes)"
   ]
  },
  {
   "cell_type": "code",
   "execution_count": 15,
   "id": "29d4502c",
   "metadata": {},
   "outputs": [
    {
     "name": "stdout",
     "output_type": "stream",
     "text": [
      "threat\n"
     ]
    }
   ],
   "source": [
    "classify(model, image_transforms, '1 (6).JPG', classes)"
   ]
  },
  {
   "cell_type": "code",
   "execution_count": 16,
   "id": "a2293f87",
   "metadata": {},
   "outputs": [
    {
     "name": "stdout",
     "output_type": "stream",
     "text": [
      "not threat\n"
     ]
    }
   ],
   "source": [
    "classify(model, image_transforms, '2 (8).png', classes)"
   ]
  },
  {
   "cell_type": "code",
   "execution_count": null,
   "id": "9b398e03",
   "metadata": {},
   "outputs": [],
   "source": []
  }
 ],
 "metadata": {
  "kernelspec": {
   "display_name": "Python 3 (ipykernel)",
   "language": "python",
   "name": "python3"
  },
  "language_info": {
   "codemirror_mode": {
    "name": "ipython",
    "version": 3
   },
   "file_extension": ".py",
   "mimetype": "text/x-python",
   "name": "python",
   "nbconvert_exporter": "python",
   "pygments_lexer": "ipython3",
   "version": "3.11.3"
  }
 },
 "nbformat": 4,
 "nbformat_minor": 5
}
