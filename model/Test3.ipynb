{
 "cells": [
  {
   "cell_type": "code",
   "execution_count": 1,
   "id": "d295dbca",
   "metadata": {},
   "outputs": [],
   "source": [
    "import os\n",
    "import torch\n",
    "import torchvision\n",
    "import torchvision.transforms as transforms"
   ]
  },
  {
   "cell_type": "code",
   "execution_count": 2,
   "id": "a6d1a93b",
   "metadata": {},
   "outputs": [
    {
     "data": {
      "text/plain": [
       "['training', 'validation']"
      ]
     },
     "execution_count": 2,
     "metadata": {},
     "output_type": "execute_result"
    }
   ],
   "source": [
    "os.listdir('./Dataset/')"
   ]
  },
  {
   "cell_type": "code",
   "execution_count": 3,
   "id": "4e0a6e35",
   "metadata": {},
   "outputs": [],
   "source": [
    "train_path = r'Dataset\\training'\n",
    "test_path = r'Dataset\\validation'"
   ]
  },
  {
   "cell_type": "code",
   "execution_count": 4,
   "id": "4b589e01",
   "metadata": {},
   "outputs": [],
   "source": [
    "img_size = 224\n",
    "# normalization parameters\n",
    "mean = [0.2842, 0.3798, 0.4523]\n",
    "std  = [0.2231, 0.1942, 0.1880]\n",
    "\n",
    "#Applying Transformation\n",
    "train_transforms = transforms.Compose([transforms.Resize((img_size,img_size)),\n",
    "                                transforms.RandomHorizontalFlip(),\n",
    "                                transforms.RandomRotation(10),\n",
    "                                transforms.ToTensor(),\n",
    "                                transforms.Normalize(torch.Tensor(mean), torch.Tensor(std))])\n",
    "\n",
    "test_transforms = transforms.Compose([transforms.Resize((img_size,img_size)),\n",
    "                                      transforms.ToTensor(),\n",
    "                                      transforms.Normalize(torch.Tensor(mean), torch.Tensor(std))])"
   ]
  },
  {
   "cell_type": "code",
   "execution_count": 5,
   "id": "0737d55f",
   "metadata": {},
   "outputs": [],
   "source": [
    "train_dataset = torchvision.datasets.ImageFolder(root = train_path, \n",
    "                                                 transform=train_transforms)\n",
    "test_dataset = torchvision.datasets.ImageFolder(root = test_path, \n",
    "                                                 transform=test_transforms)"
   ]
  },
  {
   "cell_type": "code",
   "execution_count": 6,
   "id": "da2f6dac",
   "metadata": {},
   "outputs": [
    {
     "data": {
      "text/plain": [
       "(24, 3)"
      ]
     },
     "execution_count": 6,
     "metadata": {},
     "output_type": "execute_result"
    }
   ],
   "source": [
    "BATCH_SIZE = 32\n",
    "\n",
    "torch.manual_seed(0)\n",
    "train_loader = torch.utils.data.DataLoader(train_dataset, \n",
    "                                           batch_size=BATCH_SIZE, \n",
    "                                           shuffle=True, drop_last=True, num_workers=4)\n",
    "torch.manual_seed(0)\n",
    "test_loader = torch.utils.data.DataLoader(test_dataset, \n",
    "                                          batch_size=BATCH_SIZE, \n",
    "                                          shuffle=False, num_workers=4)\n",
    "len(train_loader), len(test_loader)"
   ]
  },
  {
   "cell_type": "code",
   "execution_count": 7,
   "id": "429e9099",
   "metadata": {},
   "outputs": [
    {
     "name": "stderr",
     "output_type": "stream",
     "text": [
      "c:\\Users\\anshu\\AppData\\Local\\Programs\\Python\\Python311\\Lib\\site-packages\\torchvision\\models\\_utils.py:223: UserWarning: Arguments other than a weight enum or `None` for 'weights' are deprecated since 0.13 and may be removed in the future. The current behavior is equivalent to passing `weights=ResNet18_Weights.IMAGENET1K_V1`. You can also use `weights=ResNet18_Weights.DEFAULT` to get the most up-to-date weights.\n",
      "  warnings.warn(msg)\n"
     ]
    }
   ],
   "source": [
    "import torchvision.models as models\n",
    "import torch.nn as nn\n",
    "import torch.optim as optim\n",
    "\n",
    "resnet18_model = models.resnet18(weights = True)\n",
    "classes = 2 # five categories\n",
    "num_ftrs = resnet18_model.fc.in_features\n",
    "resnet18_model.fc = nn.Linear(num_ftrs, classes)\n",
    "loss_fn = nn.CrossEntropyLoss()\n",
    "\n",
    "optimizer = optim.SGD(resnet18_model.parameters(), \n",
    "                      lr = 0.005, \n",
    "                      momentum = 0.9, \n",
    "                      weight_decay=0.003 # extra error to prevent over-fitting\n",
    "                     )"
   ]
  },
  {
   "cell_type": "code",
   "execution_count": 8,
   "id": "f2934a8d",
   "metadata": {},
   "outputs": [],
   "source": [
    "def save_checkpoint(model, epoch, optimizer, best_acc):\n",
    "    state = {\n",
    "        'epoch': epoch + 1,\n",
    "        'model': model.state_dict(),\n",
    "        'best accuracy': best_acc,\n",
    "        'optimizer': optimizer.state_dict(),\n",
    "        'comments': 'Noice!!',\n",
    "    }\n",
    "    torch.save(state, 'model_best_checkpoint.pth.tar')"
   ]
  },
  {
   "cell_type": "code",
   "execution_count": 9,
   "id": "0020e798",
   "metadata": {},
   "outputs": [],
   "source": [
    "def train_nn(model, train_loader, test_loader, criterion, optimizer, n_epochs):\n",
    "    best_acc = 0\n",
    "    \n",
    "    for epoch in range(n_epochs):\n",
    "        print(\"Epoch number %d \" % (epoch + 1))\n",
    "        model.train()\n",
    "        running_loss = 0.0 \n",
    "        running_correct = 0.0\n",
    "        total = 0\n",
    "        \n",
    "        for data in train_loader:\n",
    "            images, labels = data\n",
    "            total += labels.size(0)\n",
    "            \n",
    "            optimizer.zero_grad()\n",
    "            \n",
    "            outputs = model(images)\n",
    "            _, predicted = torch.max(outputs.data, 1)\n",
    "            \n",
    "            loss = criterion(outputs, labels)\n",
    "            loss.backward()\n",
    "            optimizer.step()\n",
    "            \n",
    "            running_loss = loss.item()\n",
    "            running_correct += (labels==predicted).sum().item()\n",
    "        \n",
    "        epoch_loss = running_loss/len(train_loader)\n",
    "        epoch_acc = 100.00 * running_correct / total\n",
    "        \n",
    "        print(\"- Training dataset. Got %d out of %d images correctly (%.3f%%). Epoch Loss: %.3f\"\n",
    "              % (running_correct, total, epoch_acc, epoch_loss))\n",
    "        \n",
    "        test_dataset_acc = evaluate_model_test(model, test_loader)\n",
    "    \n",
    "        if(test_dataset_acc > best_acc):\n",
    "            best_acc = test_dataset_acc\n",
    "            save_checkpoint(model, epoch, optimizer, best_acc)\n",
    "        \n",
    "    print(\"Finished\")\n",
    "    return model"
   ]
  },
  {
   "cell_type": "code",
   "execution_count": 10,
   "id": "4103eb67",
   "metadata": {},
   "outputs": [],
   "source": [
    "def evaluate_model_test(model, test_loader):\n",
    "    model.eval()\n",
    "    predict_correct = 0\n",
    "    total = 0\n",
    "    \n",
    "    with torch.inference_mode():\n",
    "        for data in test_loader:\n",
    "            images, labels = data\n",
    "            total += labels.size(0)\n",
    "            \n",
    "            outputs = model(images)\n",
    "            _, predicted = torch.max(outputs.data, 1)\n",
    "            \n",
    "            predict_correct += (labels==predicted).sum().item()\n",
    "    epoch_acc = 100.00 *predict_correct / total\n",
    "    \n",
    "    print(\"- Testing dataset. Got %d out of %d images correctly (%.3f%%)\"\n",
    "              % (predict_correct, total, epoch_acc))\n",
    "    \n",
    "    return epoch_acc"
   ]
  },
  {
   "cell_type": "code",
   "execution_count": 11,
   "id": "0e100271",
   "metadata": {},
   "outputs": [
    {
     "name": "stdout",
     "output_type": "stream",
     "text": [
      "Epoch number 1 \n",
      "- Training dataset. Got 725 out of 768 images correctly (94.401%). Epoch Loss: 0.001\n",
      "- Testing dataset. Got 69 out of 70 images correctly (98.571%)\n",
      "Epoch number 2 \n",
      "- Training dataset. Got 768 out of 768 images correctly (100.000%). Epoch Loss: 0.000\n",
      "- Testing dataset. Got 70 out of 70 images correctly (100.000%)\n",
      "Epoch number 3 \n",
      "- Training dataset. Got 768 out of 768 images correctly (100.000%). Epoch Loss: 0.000\n",
      "- Testing dataset. Got 70 out of 70 images correctly (100.000%)\n",
      "Epoch number 4 \n",
      "- Training dataset. Got 768 out of 768 images correctly (100.000%). Epoch Loss: 0.000\n",
      "- Testing dataset. Got 70 out of 70 images correctly (100.000%)\n",
      "Epoch number 5 \n",
      "- Training dataset. Got 768 out of 768 images correctly (100.000%). Epoch Loss: 0.000\n",
      "- Testing dataset. Got 70 out of 70 images correctly (100.000%)\n",
      "Epoch number 6 \n",
      "- Training dataset. Got 768 out of 768 images correctly (100.000%). Epoch Loss: 0.000\n",
      "- Testing dataset. Got 70 out of 70 images correctly (100.000%)\n",
      "Epoch number 7 \n",
      "- Training dataset. Got 768 out of 768 images correctly (100.000%). Epoch Loss: 0.000\n",
      "- Testing dataset. Got 70 out of 70 images correctly (100.000%)\n",
      "Epoch number 8 \n",
      "- Training dataset. Got 768 out of 768 images correctly (100.000%). Epoch Loss: 0.000\n",
      "- Testing dataset. Got 70 out of 70 images correctly (100.000%)\n",
      "Epoch number 9 \n",
      "- Training dataset. Got 768 out of 768 images correctly (100.000%). Epoch Loss: 0.000\n",
      "- Testing dataset. Got 70 out of 70 images correctly (100.000%)\n",
      "Epoch number 10 \n",
      "- Training dataset. Got 768 out of 768 images correctly (100.000%). Epoch Loss: 0.000\n",
      "- Testing dataset. Got 70 out of 70 images correctly (100.000%)\n",
      "Finished\n"
     ]
    },
    {
     "data": {
      "text/plain": [
       "ResNet(\n",
       "  (conv1): Conv2d(3, 64, kernel_size=(7, 7), stride=(2, 2), padding=(3, 3), bias=False)\n",
       "  (bn1): BatchNorm2d(64, eps=1e-05, momentum=0.1, affine=True, track_running_stats=True)\n",
       "  (relu): ReLU(inplace=True)\n",
       "  (maxpool): MaxPool2d(kernel_size=3, stride=2, padding=1, dilation=1, ceil_mode=False)\n",
       "  (layer1): Sequential(\n",
       "    (0): BasicBlock(\n",
       "      (conv1): Conv2d(64, 64, kernel_size=(3, 3), stride=(1, 1), padding=(1, 1), bias=False)\n",
       "      (bn1): BatchNorm2d(64, eps=1e-05, momentum=0.1, affine=True, track_running_stats=True)\n",
       "      (relu): ReLU(inplace=True)\n",
       "      (conv2): Conv2d(64, 64, kernel_size=(3, 3), stride=(1, 1), padding=(1, 1), bias=False)\n",
       "      (bn2): BatchNorm2d(64, eps=1e-05, momentum=0.1, affine=True, track_running_stats=True)\n",
       "    )\n",
       "    (1): BasicBlock(\n",
       "      (conv1): Conv2d(64, 64, kernel_size=(3, 3), stride=(1, 1), padding=(1, 1), bias=False)\n",
       "      (bn1): BatchNorm2d(64, eps=1e-05, momentum=0.1, affine=True, track_running_stats=True)\n",
       "      (relu): ReLU(inplace=True)\n",
       "      (conv2): Conv2d(64, 64, kernel_size=(3, 3), stride=(1, 1), padding=(1, 1), bias=False)\n",
       "      (bn2): BatchNorm2d(64, eps=1e-05, momentum=0.1, affine=True, track_running_stats=True)\n",
       "    )\n",
       "  )\n",
       "  (layer2): Sequential(\n",
       "    (0): BasicBlock(\n",
       "      (conv1): Conv2d(64, 128, kernel_size=(3, 3), stride=(2, 2), padding=(1, 1), bias=False)\n",
       "      (bn1): BatchNorm2d(128, eps=1e-05, momentum=0.1, affine=True, track_running_stats=True)\n",
       "      (relu): ReLU(inplace=True)\n",
       "      (conv2): Conv2d(128, 128, kernel_size=(3, 3), stride=(1, 1), padding=(1, 1), bias=False)\n",
       "      (bn2): BatchNorm2d(128, eps=1e-05, momentum=0.1, affine=True, track_running_stats=True)\n",
       "      (downsample): Sequential(\n",
       "        (0): Conv2d(64, 128, kernel_size=(1, 1), stride=(2, 2), bias=False)\n",
       "        (1): BatchNorm2d(128, eps=1e-05, momentum=0.1, affine=True, track_running_stats=True)\n",
       "      )\n",
       "    )\n",
       "    (1): BasicBlock(\n",
       "      (conv1): Conv2d(128, 128, kernel_size=(3, 3), stride=(1, 1), padding=(1, 1), bias=False)\n",
       "      (bn1): BatchNorm2d(128, eps=1e-05, momentum=0.1, affine=True, track_running_stats=True)\n",
       "      (relu): ReLU(inplace=True)\n",
       "      (conv2): Conv2d(128, 128, kernel_size=(3, 3), stride=(1, 1), padding=(1, 1), bias=False)\n",
       "      (bn2): BatchNorm2d(128, eps=1e-05, momentum=0.1, affine=True, track_running_stats=True)\n",
       "    )\n",
       "  )\n",
       "  (layer3): Sequential(\n",
       "    (0): BasicBlock(\n",
       "      (conv1): Conv2d(128, 256, kernel_size=(3, 3), stride=(2, 2), padding=(1, 1), bias=False)\n",
       "      (bn1): BatchNorm2d(256, eps=1e-05, momentum=0.1, affine=True, track_running_stats=True)\n",
       "      (relu): ReLU(inplace=True)\n",
       "      (conv2): Conv2d(256, 256, kernel_size=(3, 3), stride=(1, 1), padding=(1, 1), bias=False)\n",
       "      (bn2): BatchNorm2d(256, eps=1e-05, momentum=0.1, affine=True, track_running_stats=True)\n",
       "      (downsample): Sequential(\n",
       "        (0): Conv2d(128, 256, kernel_size=(1, 1), stride=(2, 2), bias=False)\n",
       "        (1): BatchNorm2d(256, eps=1e-05, momentum=0.1, affine=True, track_running_stats=True)\n",
       "      )\n",
       "    )\n",
       "    (1): BasicBlock(\n",
       "      (conv1): Conv2d(256, 256, kernel_size=(3, 3), stride=(1, 1), padding=(1, 1), bias=False)\n",
       "      (bn1): BatchNorm2d(256, eps=1e-05, momentum=0.1, affine=True, track_running_stats=True)\n",
       "      (relu): ReLU(inplace=True)\n",
       "      (conv2): Conv2d(256, 256, kernel_size=(3, 3), stride=(1, 1), padding=(1, 1), bias=False)\n",
       "      (bn2): BatchNorm2d(256, eps=1e-05, momentum=0.1, affine=True, track_running_stats=True)\n",
       "    )\n",
       "  )\n",
       "  (layer4): Sequential(\n",
       "    (0): BasicBlock(\n",
       "      (conv1): Conv2d(256, 512, kernel_size=(3, 3), stride=(2, 2), padding=(1, 1), bias=False)\n",
       "      (bn1): BatchNorm2d(512, eps=1e-05, momentum=0.1, affine=True, track_running_stats=True)\n",
       "      (relu): ReLU(inplace=True)\n",
       "      (conv2): Conv2d(512, 512, kernel_size=(3, 3), stride=(1, 1), padding=(1, 1), bias=False)\n",
       "      (bn2): BatchNorm2d(512, eps=1e-05, momentum=0.1, affine=True, track_running_stats=True)\n",
       "      (downsample): Sequential(\n",
       "        (0): Conv2d(256, 512, kernel_size=(1, 1), stride=(2, 2), bias=False)\n",
       "        (1): BatchNorm2d(512, eps=1e-05, momentum=0.1, affine=True, track_running_stats=True)\n",
       "      )\n",
       "    )\n",
       "    (1): BasicBlock(\n",
       "      (conv1): Conv2d(512, 512, kernel_size=(3, 3), stride=(1, 1), padding=(1, 1), bias=False)\n",
       "      (bn1): BatchNorm2d(512, eps=1e-05, momentum=0.1, affine=True, track_running_stats=True)\n",
       "      (relu): ReLU(inplace=True)\n",
       "      (conv2): Conv2d(512, 512, kernel_size=(3, 3), stride=(1, 1), padding=(1, 1), bias=False)\n",
       "      (bn2): BatchNorm2d(512, eps=1e-05, momentum=0.1, affine=True, track_running_stats=True)\n",
       "    )\n",
       "  )\n",
       "  (avgpool): AdaptiveAvgPool2d(output_size=(1, 1))\n",
       "  (fc): Linear(in_features=512, out_features=2, bias=True)\n",
       ")"
      ]
     },
     "execution_count": 11,
     "metadata": {},
     "output_type": "execute_result"
    }
   ],
   "source": [
    "train_nn(resnet18_model, train_loader, test_loader, loss_fn, optimizer, 10)"
   ]
  },
  {
   "cell_type": "code",
   "execution_count": 12,
   "id": "d2049bc2",
   "metadata": {},
   "outputs": [],
   "source": [
    "checkpoint = torch.load('model_best_checkpoint.pth.tar')"
   ]
  },
  {
   "cell_type": "code",
   "execution_count": 13,
   "id": "6aa34f81",
   "metadata": {},
   "outputs": [
    {
     "name": "stdout",
     "output_type": "stream",
     "text": [
      "2\n",
      "Noice!!\n",
      "100.0\n"
     ]
    }
   ],
   "source": [
    "print(checkpoint['epoch'])\n",
    "print(checkpoint['comments'])\n",
    "print(checkpoint['best accuracy'])"
   ]
  },
  {
   "cell_type": "code",
   "execution_count": 15,
   "id": "9d1d0923",
   "metadata": {},
   "outputs": [],
   "source": [
    "resnet18_model = models.resnet18()\n",
    "num_ftrs = resnet18_model.fc.in_features\n",
    "classes = 2\n",
    "resnet18_model.fc = nn.Linear(num_ftrs, classes)\n",
    "resnet18_model.load_state_dict(checkpoint['model'])\n",
    "\n",
    "torch.save(resnet18_model, 'best_model.pth')"
   ]
  },
  {
   "cell_type": "code",
   "execution_count": null,
   "id": "b63899f1",
   "metadata": {},
   "outputs": [],
   "source": []
  }
 ],
 "metadata": {
  "kernelspec": {
   "display_name": "Python 3 (ipykernel)",
   "language": "python",
   "name": "python3"
  },
  "language_info": {
   "codemirror_mode": {
    "name": "ipython",
    "version": 3
   },
   "file_extension": ".py",
   "mimetype": "text/x-python",
   "name": "python",
   "nbconvert_exporter": "python",
   "pygments_lexer": "ipython3",
   "version": "3.11.3"
  }
 },
 "nbformat": 4,
 "nbformat_minor": 5
}
