{
 "cells": [
  {
   "cell_type": "code",
   "execution_count": 1,
   "id": "831fff0b",
   "metadata": {},
   "outputs": [],
   "source": [
    "import os\n",
    "import torch\n",
    "import torchvision\n",
    "import torchvision.transforms as transforms"
   ]
  },
  {
   "cell_type": "code",
   "execution_count": 5,
   "id": "9afc1286",
   "metadata": {},
   "outputs": [],
   "source": [
    "train_path = r'Dataset\\training'"
   ]
  },
  {
   "cell_type": "code",
   "execution_count": 6,
   "id": "d08cf753",
   "metadata": {},
   "outputs": [],
   "source": [
    "img_size = 224\n",
    "train_transforms = transforms.Compose([transforms.Resize((img_size,img_size)),\n",
    "                                transforms.ToTensor()])"
   ]
  },
  {
   "cell_type": "code",
   "execution_count": 7,
   "id": "4c11b939",
   "metadata": {},
   "outputs": [],
   "source": [
    "train_dataset = torchvision.datasets.ImageFolder(root = train_path, \n",
    "                                                 transform=train_transforms)"
   ]
  },
  {
   "cell_type": "code",
   "execution_count": 8,
   "id": "90216325",
   "metadata": {},
   "outputs": [],
   "source": [
    "BATCH_SIZE = 64\n",
    "\n",
    "torch.manual_seed(0)\n",
    "train_loader = torch.utils.data.DataLoader(train_dataset, \n",
    "                                           batch_size=BATCH_SIZE, \n",
    "                                           shuffle=True, drop_last=True, num_workers=4)"
   ]
  },
  {
   "cell_type": "code",
   "execution_count": 9,
   "id": "bdebb991",
   "metadata": {},
   "outputs": [],
   "source": [
    "def get_mean_and_std(loader):\n",
    "    mean = 0\n",
    "    std = 0\n",
    "    total_images_count = 0\n",
    "    for images, _ in loader:\n",
    "        image_count_in_a_batch = images.size(0)\n",
    "        print(images.shape)\n",
    "        images = images.view(image_count_in_a_batch, images.size(1), -1)\n",
    "        print(images.shape)\n",
    "        mean += images.mean(2).sum(0)\n",
    "        std += images.std(2).sum(0)\n",
    "        total_images_count += image_count_in_a_batch\n",
    "    mean /= total_images_count\n",
    "    std /= total_images_count\n",
    "    \n",
    "    return mean, std"
   ]
  },
  {
   "cell_type": "code",
   "execution_count": 10,
   "id": "9b8b7ead",
   "metadata": {},
   "outputs": [
    {
     "name": "stdout",
     "output_type": "stream",
     "text": [
      "torch.Size([64, 3, 224, 224])\n",
      "torch.Size([64, 3, 50176])\n",
      "torch.Size([64, 3, 224, 224])\n",
      "torch.Size([64, 3, 50176])\n",
      "torch.Size([64, 3, 224, 224])\n",
      "torch.Size([64, 3, 50176])\n",
      "torch.Size([64, 3, 224, 224])\n",
      "torch.Size([64, 3, 50176])\n",
      "torch.Size([64, 3, 224, 224])\n",
      "torch.Size([64, 3, 50176])\n",
      "torch.Size([64, 3, 224, 224])\n",
      "torch.Size([64, 3, 50176])\n",
      "torch.Size([64, 3, 224, 224])\n",
      "torch.Size([64, 3, 50176])\n",
      "torch.Size([64, 3, 224, 224])\n",
      "torch.Size([64, 3, 50176])\n",
      "torch.Size([64, 3, 224, 224])\n",
      "torch.Size([64, 3, 50176])\n",
      "torch.Size([64, 3, 224, 224])\n",
      "torch.Size([64, 3, 50176])\n",
      "torch.Size([64, 3, 224, 224])\n",
      "torch.Size([64, 3, 50176])\n",
      "torch.Size([64, 3, 224, 224])\n",
      "torch.Size([64, 3, 50176])\n"
     ]
    },
    {
     "data": {
      "text/plain": [
       "(tensor([0.2842, 0.3798, 0.4523]), tensor([0.2231, 0.1942, 0.1880]))"
      ]
     },
     "execution_count": 10,
     "metadata": {},
     "output_type": "execute_result"
    }
   ],
   "source": [
    "get_mean_and_std(train_loader)"
   ]
  },
  {
   "cell_type": "code",
   "execution_count": null,
   "id": "71d6ff07",
   "metadata": {},
   "outputs": [],
   "source": []
  }
 ],
 "metadata": {
  "kernelspec": {
   "display_name": "Python 3 (ipykernel)",
   "language": "python",
   "name": "python3"
  },
  "language_info": {
   "codemirror_mode": {
    "name": "ipython",
    "version": 3
   },
   "file_extension": ".py",
   "mimetype": "text/x-python",
   "name": "python",
   "nbconvert_exporter": "python",
   "pygments_lexer": "ipython3",
   "version": "3.11.3"
  }
 },
 "nbformat": 4,
 "nbformat_minor": 5
}
